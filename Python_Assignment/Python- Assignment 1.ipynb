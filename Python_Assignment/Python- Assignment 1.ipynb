{
 "cells": [
  {
   "cell_type": "markdown",
   "id": "da85a99b",
   "metadata": {},
   "source": [
    "1. In the below elements which of them are values or an expression? eg:- values can be integer or string and expressions will be mathematical operators."
   ]
  },
  {
   "cell_type": "raw",
   "id": "c025f51c",
   "metadata": {},
   "source": [
    "*  \n",
    "'hello'  \n",
    "-87.8 \n",
    "-\n",
    "/ \n",
    "+\n",
    "6\n",
    "\n",
    "## Values: 'hello', -87.8, 6\n",
    "## expression : *, -, /, +\n"
   ]
  },
  {
   "cell_type": "markdown",
   "id": "b0bc5b1c",
   "metadata": {},
   "source": [
    "2. What is the difference between string and variable?"
   ]
  },
  {
   "cell_type": "raw",
   "id": "ccc1ae51",
   "metadata": {},
   "source": [
    "A string is sequence of characters enclosed in double quotes or single quotes. \n",
    "It can hold zero or more than zero characters in it.Example 'Chetan', 'INDIA'\n",
    "\n",
    "Whereas, variable is something which stores value from one part of program so that it can be used in other part of program.\n",
    "Example: variable_alloted = 'Chetan','India'"
   ]
  },
  {
   "cell_type": "markdown",
   "id": "ec1a4ee5",
   "metadata": {},
   "source": [
    "3. Describe three different data types."
   ]
  },
  {
   "cell_type": "raw",
   "id": "a886dc29",
   "metadata": {},
   "source": [
    "i.float : any whole number with a decimal point. x = 3.5\n",
    "ii.int : any whole number. y = 3, 4, 5\n",
    "iii. string : any character which is enclosed in single quotes or double quoutes. Ex : 'Chetan', 'KOLKATA'"
   ]
  },
  {
   "cell_type": "markdown",
   "id": "34251200",
   "metadata": {},
   "source": [
    "4. What is an expression made up of? What do all expressions do?"
   ]
  },
  {
   "cell_type": "raw",
   "id": "ce6d5de0",
   "metadata": {},
   "source": [
    "Expression are combinaton of variables and operators.\n",
    "\n",
    "Variable:\n",
    "a= 25\n",
    "b=50\n",
    "    \n",
    "Expression    \n",
    "c= a+b\n",
    "    "
   ]
  },
  {
   "cell_type": "markdown",
   "id": "0bb9259d",
   "metadata": {},
   "source": [
    "5. This assignment statements, like spam = 10. What is the difference between an\n",
    "expression and a statement?"
   ]
  },
  {
   "cell_type": "raw",
   "id": "47062a40",
   "metadata": {},
   "source": [
    "Basically, statements are a unit of code that Python interpreter executes. \n",
    "It can be a single statement or group of statement.\n",
    "When interpreter hits statement, it executes the statement and displays the result (if there is any).\n",
    "\n",
    "Considering, the above example spam = 10\n",
    "value 10 is assigned to spam, and now spam will have value 10.\n",
    "\n",
    "Now, coming to expression these are comibination of operators and variables\n",
    "Expression, a = C+B, the value of a depends on the value of C and B.\n"
   ]
  },
  {
   "cell_type": "markdown",
   "id": "348e6115",
   "metadata": {},
   "source": [
    "6. After running the following code, what does the variable bacon contain?\n",
    "bacon = 22\n",
    "bacon + 1"
   ]
  },
  {
   "cell_type": "raw",
   "id": "35587ef9",
   "metadata": {},
   "source": [
    "After running the following code, bacon will still contain value 22 in it as\n",
    "because we have not alloted/uesd any variable to bacon+1 like bacon =22.\n",
    "\n",
    "Hence, bacon = 22.\n",
    "\n",
    "Therefore if we want to change the value of bacon we should re-assign the variable name in the time of executing the code.\n"
   ]
  },
  {
   "cell_type": "code",
   "execution_count": 35,
   "id": "a558a1f8",
   "metadata": {},
   "outputs": [
    {
     "name": "stdout",
     "output_type": "stream",
     "text": [
      "22\n"
     ]
    }
   ],
   "source": [
    "bacon =22\n",
    "bacon+1\n",
    "print(bacon)\n"
   ]
  },
  {
   "cell_type": "code",
   "execution_count": 29,
   "id": "97eef42d",
   "metadata": {},
   "outputs": [
    {
     "name": "stdout",
     "output_type": "stream",
     "text": [
      "23\n"
     ]
    }
   ],
   "source": [
    "bacon =22\n",
    "bacon = bacon+1\n",
    "print(bacon)\n"
   ]
  },
  {
   "cell_type": "markdown",
   "id": "b366cbdc",
   "metadata": {},
   "source": [
    "7. What should the values of the following two terms be?\n",
    "\n",
    "'spam'+ 'spamspam'\n",
    "\n",
    "'spam' *3\n"
   ]
  },
  {
   "cell_type": "raw",
   "id": "c0fc87d4",
   "metadata": {},
   "source": [
    "Both outputs will be 'Spamspamspam'."
   ]
  },
  {
   "cell_type": "markdown",
   "id": "8cba3df2",
   "metadata": {},
   "source": [
    "8.Why is eggs a valid variable name while 100 is invalid?"
   ]
  },
  {
   "cell_type": "raw",
   "id": "0d5369b2",
   "metadata": {},
   "source": [
    "Eggs is a valid name while 100 is invalid as because any variable name cannot start with number."
   ]
  },
  {
   "cell_type": "markdown",
   "id": "a9e947d4",
   "metadata": {},
   "source": [
    "9. What three functions can be used to get the integer, floating-point number, or string\n",
    "version of a value?"
   ]
  },
  {
   "cell_type": "raw",
   "id": "bf1a921d",
   "metadata": {},
   "source": [
    "The following functions\n",
    "- int()\n",
    "- float()\n",
    "- str()  \n",
    "\n",
    "These functions will convert the values to integer, float or string versions of the values passed to them."
   ]
  },
  {
   "cell_type": "markdown",
   "id": "0d0e0206",
   "metadata": {},
   "source": [
    "10.Why does this expression cause an error? How can you fix it? 'I have eaten ' + 99 + ' burritos.'"
   ]
  },
  {
   "cell_type": "raw",
   "id": "bc7ca8c3",
   "metadata": {},
   "source": [
    "As because, string can be only concatenated with string. These will be fixed if we typecaste 99 as string or if we use single quotes or double to 99."
   ]
  },
  {
   "cell_type": "code",
   "execution_count": 45,
   "id": "7e709f66",
   "metadata": {},
   "outputs": [
    {
     "data": {
      "text/plain": [
       "'I have eaten 99 burritos.'"
      ]
     },
     "execution_count": 45,
     "metadata": {},
     "output_type": "execute_result"
    }
   ],
   "source": [
    "'I have eaten ' + str(99) + ' burritos.'"
   ]
  },
  {
   "cell_type": "code",
   "execution_count": 46,
   "id": "32b0c15d",
   "metadata": {},
   "outputs": [
    {
     "data": {
      "text/plain": [
       "'I have eaten 99 burritos.'"
      ]
     },
     "execution_count": 46,
     "metadata": {},
     "output_type": "execute_result"
    }
   ],
   "source": [
    "'I have eaten ' + '99' + ' burritos.'"
   ]
  }
 ],
 "metadata": {
  "kernelspec": {
   "display_name": "Python 3 (ipykernel)",
   "language": "python",
   "name": "python3"
  },
  "language_info": {
   "codemirror_mode": {
    "name": "ipython",
    "version": 3
   },
   "file_extension": ".py",
   "mimetype": "text/x-python",
   "name": "python",
   "nbconvert_exporter": "python",
   "pygments_lexer": "ipython3",
   "version": "3.11.3"
  }
 },
 "nbformat": 4,
 "nbformat_minor": 5
}
